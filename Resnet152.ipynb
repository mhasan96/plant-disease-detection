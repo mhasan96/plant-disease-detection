{
 "cells": [
  {
   "cell_type": "code",
   "execution_count": 1,
   "id": "77aff988",
   "metadata": {},
   "outputs": [],
   "source": [
    "import tensorflow as tf\n",
    "from tensorflow.keras.models import Model, Sequential\n",
    "from tensorflow.keras.layers import Activation, Dense, BatchNormalization, concatenate, Dropout, Conv2D, Conv2DTranspose, MaxPooling2D, UpSampling2D, Input, Reshape\n",
    "from tensorflow.keras.callbacks import EarlyStopping\n",
    "from tensorflow.keras.layers import SpatialDropout2D\n",
    "from tensorflow.keras import backend as K\n",
    "from tensorflow.keras.optimizers import Adam, RMSprop\n",
    "import numpy as np\n",
    "import pandas as pd\n",
    "import glob\n",
    "import PIL\n",
    "from PIL import Image\n",
    "import matplotlib.pyplot as plt\n",
    "import cv2\n",
    "%matplotlib inline\n",
    "import os\n",
    "from tensorflow.keras.preprocessing.image import ImageDataGenerator\n",
    "from tensorflow.keras.layers import Dense, Flatten, Dropout\n",
    "from tensorflow.keras.applications import EfficientNetV2S\n",
    "from tensorflow.keras import layers\n",
    "from tensorflow.keras.preprocessing.image import ImageDataGenerator\n",
    "from sklearn.model_selection import train_test_split\n",
    "from warnings import filterwarnings\n",
    "from tensorflow.keras.models import load_model\n",
    "import itertools \n",
    "filterwarnings('ignore')\n",
    "from sklearn.metrics import classification_report, confusion_matrix"
   ]
  },
  {
   "cell_type": "code",
   "execution_count": 2,
   "id": "c4c8c362",
   "metadata": {},
   "outputs": [
    {
     "name": "stderr",
     "output_type": "stream",
     "text": [
      "2022-05-07 11:21:45.782243: I tensorflow/stream_executor/cuda/cuda_gpu_executor.cc:952] successful NUMA node read from SysFS had negative value (-1), but there must be at least one NUMA node, so returning NUMA node zero\n",
      "2022-05-07 11:21:45.814485: I tensorflow/stream_executor/cuda/cuda_gpu_executor.cc:952] successful NUMA node read from SysFS had negative value (-1), but there must be at least one NUMA node, so returning NUMA node zero\n",
      "2022-05-07 11:21:45.814668: I tensorflow/stream_executor/cuda/cuda_gpu_executor.cc:952] successful NUMA node read from SysFS had negative value (-1), but there must be at least one NUMA node, so returning NUMA node zero\n"
     ]
    }
   ],
   "source": [
    "import tensorflow as tf\n",
    "\n",
    "gpus = tf.config.experimental.list_physical_devices('GPU')\n",
    "for gpu in gpus:\n",
    "    tf.config.experimental.set_memory_growth(gpu, True)"
   ]
  },
  {
   "cell_type": "code",
   "execution_count": 3,
   "id": "9b2ab612",
   "metadata": {},
   "outputs": [],
   "source": [
    "import tensorflow as tf\n",
    "import numpy as np\n",
    "import os\n",
    "import random\n",
    "\n",
    "\n",
    "def set_seed(seed):\n",
    "    tf.random.set_seed(seed)\n",
    "    os.environ['PYTHONHASHSEED'] = str(seed)\n",
    "    np.random.seed(seed)\n",
    "    random.seed(seed)\n",
    "\n",
    "\n",
    "seed = 1337\n",
    "set_seed(seed)"
   ]
  },
  {
   "cell_type": "code",
   "execution_count": 4,
   "id": "5b119b02",
   "metadata": {},
   "outputs": [],
   "source": [
    "train_dir = \"train\"\n",
    "val_dir = \"val\"\n",
    "test_dir = \"test\"\n",
    "# labels = ['benign', 'malignant']\n",
    "# label_np = np.array(labels)"
   ]
  },
  {
   "cell_type": "code",
   "execution_count": 5,
   "id": "c287f8f3",
   "metadata": {},
   "outputs": [
    {
     "name": "stdout",
     "output_type": "stream",
     "text": [
      "Found 43429 images belonging to 38 classes.\n",
      "Found 5417 images belonging to 38 classes.\n",
      "Found 5459 images belonging to 38 classes.\n"
     ]
    }
   ],
   "source": [
    "from tensorflow.keras.preprocessing.image import ImageDataGenerator\n",
    "from tensorflow.keras.applications.resnet_v2 import preprocess_input\n",
    "\n",
    "\n",
    "datagen_train = ImageDataGenerator(width_shift_range=0.1,\n",
    "                                   height_shift_range=0.1,\n",
    "                                   horizontal_flip=True,\n",
    "                                   vertical_flip=True,\n",
    "                                   preprocessing_function=preprocess_input)\n",
    "datagen_val = ImageDataGenerator(preprocessing_function=preprocess_input)\n",
    "datagen_test = ImageDataGenerator(preprocessing_function=preprocess_input)\n",
    "\n",
    "batch_size = 64\n",
    "input_shape = (128, 128)\n",
    "\n",
    "generator_train = datagen_train.flow_from_directory(directory=train_dir,\n",
    "                                                    target_size=input_shape,\n",
    "                                                    batch_size=batch_size,\n",
    "                                                    shuffle=True)\n",
    "generator_val = datagen_val.flow_from_directory(directory=val_dir,\n",
    "                                                target_size=input_shape,\n",
    "                                                batch_size=batch_size,\n",
    "                                                shuffle=False)\n",
    "generator_test = datagen_test.flow_from_directory(directory=test_dir,\n",
    "                                                  target_size=input_shape,\n",
    "                                                  batch_size=batch_size,\n",
    "                                                  shuffle=False)"
   ]
  },
  {
   "cell_type": "code",
   "execution_count": 6,
   "id": "7778b239",
   "metadata": {},
   "outputs": [
    {
     "name": "stderr",
     "output_type": "stream",
     "text": [
      "2022-05-07 11:21:47.324083: I tensorflow/core/platform/cpu_feature_guard.cc:152] This TensorFlow binary is optimized with oneAPI Deep Neural Network Library (oneDNN) to use the following CPU instructions in performance-critical operations:  SSE3 SSE4.1 SSE4.2 AVX\n",
      "To enable them in other operations, rebuild TensorFlow with the appropriate compiler flags.\n",
      "2022-05-07 11:21:47.324553: I tensorflow/stream_executor/cuda/cuda_gpu_executor.cc:952] successful NUMA node read from SysFS had negative value (-1), but there must be at least one NUMA node, so returning NUMA node zero\n",
      "2022-05-07 11:21:47.324732: I tensorflow/stream_executor/cuda/cuda_gpu_executor.cc:952] successful NUMA node read from SysFS had negative value (-1), but there must be at least one NUMA node, so returning NUMA node zero\n",
      "2022-05-07 11:21:47.324870: I tensorflow/stream_executor/cuda/cuda_gpu_executor.cc:952] successful NUMA node read from SysFS had negative value (-1), but there must be at least one NUMA node, so returning NUMA node zero\n",
      "2022-05-07 11:21:47.680528: I tensorflow/stream_executor/cuda/cuda_gpu_executor.cc:952] successful NUMA node read from SysFS had negative value (-1), but there must be at least one NUMA node, so returning NUMA node zero\n",
      "2022-05-07 11:21:47.680706: I tensorflow/stream_executor/cuda/cuda_gpu_executor.cc:952] successful NUMA node read from SysFS had negative value (-1), but there must be at least one NUMA node, so returning NUMA node zero\n",
      "2022-05-07 11:21:47.680853: I tensorflow/stream_executor/cuda/cuda_gpu_executor.cc:952] successful NUMA node read from SysFS had negative value (-1), but there must be at least one NUMA node, so returning NUMA node zero\n",
      "2022-05-07 11:21:47.680966: I tensorflow/core/common_runtime/gpu/gpu_device.cc:1525] Created device /job:localhost/replica:0/task:0/device:GPU:0 with 7196 MB memory:  -> device: 0, name: NVIDIA GeForce RTX 3080, pci bus id: 0000:27:00.0, compute capability: 8.6\n"
     ]
    }
   ],
   "source": [
    "from tensorflow.keras.applications.resnet_v2 import ResNet152V2, preprocess_input\n",
    "model = ResNet152V2(include_top=False, input_shape=(128, 128, 3), weights='imagenet')\n",
    "model_name = 'ResNet152V2'"
   ]
  },
  {
   "cell_type": "code",
   "execution_count": 7,
   "id": "bba86b11",
   "metadata": {},
   "outputs": [],
   "source": [
    "from tensorflow.keras.models import Model\n",
    "from tensorflow.keras.layers import Flatten, Dense, Dropout\n",
    "headModel = model.output\n",
    "headModel = Flatten()(headModel)\n",
    "headModel = Dense(38, activation=\"softmax\")(headModel)\n",
    "model = Model(inputs=model.input, outputs=headModel)\n",
    "# model.summary()"
   ]
  },
  {
   "cell_type": "code",
   "execution_count": null,
   "id": "3b9f5eba",
   "metadata": {},
   "outputs": [],
   "source": [
    "def print_layer_trainable():\n",
    "    for layer in model.layers:\n",
    "        print(\"{0}:\\t{1}\".format(layer.trainable, layer.name))\n",
    "\n",
    "\n",
    "# print_layer_trainable()"
   ]
  },
  {
   "cell_type": "code",
   "execution_count": 8,
   "id": "79a19a41",
   "metadata": {},
   "outputs": [],
   "source": [
    "from tensorflow.keras.optimizers import Adam\n",
    "\n",
    "optimizer = Adam(learning_rate=2e-5)\n",
    "loss = 'categorical_crossentropy'\n",
    "metrics = ['accuracy', 'Precision', 'Recall']\n",
    "model.compile(optimizer=optimizer, loss=loss, metrics=metrics)"
   ]
  },
  {
   "cell_type": "code",
   "execution_count": 9,
   "id": "1a78cf9b",
   "metadata": {
    "scrolled": false
   },
   "outputs": [
    {
     "name": "stdout",
     "output_type": "stream",
     "text": [
      "Epoch 1/50\n"
     ]
    },
    {
     "name": "stderr",
     "output_type": "stream",
     "text": [
      "2022-05-07 11:22:04.288885: I tensorflow/stream_executor/cuda/cuda_dnn.cc:379] Loaded cuDNN version 8303\n",
      "2022-05-07 11:22:05.843835: I tensorflow/stream_executor/cuda/cuda_blas.cc:1804] TensorFloat-32 will be used for the matrix multiplication. This will only be logged once.\n"
     ]
    },
    {
     "name": "stdout",
     "output_type": "stream",
     "text": [
      "679/679 [==============================] - 170s 228ms/step - loss: 1.0315 - accuracy: 0.7189 - precision: 0.8695 - recall: 0.6447 - val_loss: 0.3293 - val_accuracy: 0.8992 - val_precision: 0.9238 - val_recall: 0.8822\n",
      "Epoch 2/50\n",
      "679/679 [==============================] - 151s 223ms/step - loss: 0.2521 - accuracy: 0.9183 - precision: 0.9391 - recall: 0.9029 - val_loss: 0.1762 - val_accuracy: 0.9457 - val_precision: 0.9544 - val_recall: 0.9394\n",
      "Epoch 3/50\n",
      "679/679 [==============================] - 152s 224ms/step - loss: 0.1444 - accuracy: 0.9511 - precision: 0.9608 - recall: 0.9440 - val_loss: 0.1228 - val_accuracy: 0.9633 - val_precision: 0.9681 - val_recall: 0.9583\n",
      "Epoch 4/50\n",
      "679/679 [==============================] - 152s 224ms/step - loss: 0.0987 - accuracy: 0.9673 - precision: 0.9725 - recall: 0.9625 - val_loss: 0.1015 - val_accuracy: 0.9701 - val_precision: 0.9742 - val_recall: 0.9682\n",
      "Epoch 5/50\n",
      "679/679 [==============================] - 152s 224ms/step - loss: 0.0724 - accuracy: 0.9758 - precision: 0.9788 - recall: 0.9734 - val_loss: 0.0861 - val_accuracy: 0.9732 - val_precision: 0.9757 - val_recall: 0.9716\n",
      "Epoch 6/50\n",
      "679/679 [==============================] - 152s 223ms/step - loss: 0.0584 - accuracy: 0.9809 - precision: 0.9829 - recall: 0.9786 - val_loss: 0.0739 - val_accuracy: 0.9769 - val_precision: 0.9798 - val_recall: 0.9762\n",
      "Epoch 7/50\n",
      "679/679 [==============================] - 152s 223ms/step - loss: 0.0482 - accuracy: 0.9834 - precision: 0.9848 - recall: 0.9819 - val_loss: 0.0626 - val_accuracy: 0.9795 - val_precision: 0.9815 - val_recall: 0.9793\n",
      "Epoch 8/50\n",
      "679/679 [==============================] - 147s 216ms/step - loss: 0.0390 - accuracy: 0.9871 - precision: 0.9886 - recall: 0.9857 - val_loss: 0.0530 - val_accuracy: 0.9849 - val_precision: 0.9859 - val_recall: 0.9843\n",
      "Epoch 9/50\n",
      "679/679 [==============================] - 144s 211ms/step - loss: 0.0362 - accuracy: 0.9881 - precision: 0.9892 - recall: 0.9871 - val_loss: 0.0517 - val_accuracy: 0.9839 - val_precision: 0.9854 - val_recall: 0.9830\n",
      "Epoch 10/50\n",
      "679/679 [==============================] - 142s 209ms/step - loss: 0.0307 - accuracy: 0.9898 - precision: 0.9905 - recall: 0.9890 - val_loss: 0.0543 - val_accuracy: 0.9828 - val_precision: 0.9839 - val_recall: 0.9825\n",
      "Epoch 11/50\n",
      "679/679 [==============================] - 142s 208ms/step - loss: 0.0278 - accuracy: 0.9907 - precision: 0.9913 - recall: 0.9901 - val_loss: 0.0535 - val_accuracy: 0.9849 - val_precision: 0.9858 - val_recall: 0.9841\n",
      "CPU times: user 41min 14s, sys: 2min 32s, total: 43min 46s\n",
      "Wall time: 27min 35s\n"
     ]
    }
   ],
   "source": [
    "%%time\n",
    "from tensorflow.keras.callbacks import EarlyStopping, ModelCheckpoint\n",
    "\n",
    "epochs = 50\n",
    "\n",
    "callbacks = [\n",
    "    EarlyStopping(patience=3, monitor='val_accuracy'),\n",
    "    ModelCheckpoint(f'models/{model_name}.h5',\n",
    "                    monitor='val_accuracy', save_best_only=True)\n",
    "]\n",
    "history = model.fit(x=generator_train,\n",
    "                    epochs=epochs,\n",
    "                    validation_data=generator_val,\n",
    "                    callbacks=callbacks)"
   ]
  }
 ],
 "metadata": {
  "kernelspec": {
   "display_name": "Python 3 (ipykernel)",
   "language": "python",
   "name": "python3"
  },
  "language_info": {
   "codemirror_mode": {
    "name": "ipython",
    "version": 3
   },
   "file_extension": ".py",
   "mimetype": "text/x-python",
   "name": "python",
   "nbconvert_exporter": "python",
   "pygments_lexer": "ipython3",
   "version": "3.8.10"
  },
  "latex_envs": {
   "LaTeX_envs_menu_present": true,
   "autoclose": false,
   "autocomplete": true,
   "bibliofile": "biblio.bib",
   "cite_by": "apalike",
   "current_citInitial": 1,
   "eqLabelWithNumbers": true,
   "eqNumInitial": 1,
   "hotkeys": {
    "equation": "Ctrl-E",
    "itemize": "Ctrl-I"
   },
   "labels_anchors": false,
   "latex_user_defs": false,
   "report_style_numbering": false,
   "user_envs_cfg": false
  },
  "varInspector": {
   "cols": {
    "lenName": 16,
    "lenType": 16,
    "lenVar": 40
   },
   "kernels_config": {
    "python": {
     "delete_cmd_postfix": "",
     "delete_cmd_prefix": "del ",
     "library": "var_list.py",
     "varRefreshCmd": "print(var_dic_list())"
    },
    "r": {
     "delete_cmd_postfix": ") ",
     "delete_cmd_prefix": "rm(",
     "library": "var_list.r",
     "varRefreshCmd": "cat(var_dic_list()) "
    }
   },
   "types_to_exclude": [
    "module",
    "function",
    "builtin_function_or_method",
    "instance",
    "_Feature"
   ],
   "window_display": false
  }
 },
 "nbformat": 4,
 "nbformat_minor": 5
}
